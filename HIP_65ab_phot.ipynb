{
  "nbformat": 4,
  "nbformat_minor": 0,
  "metadata": {
    "colab": {
      "name": "HIP_65ab_phot.ipynb",
      "provenance": [],
      "collapsed_sections": [],
      "include_colab_link": true
    },
    "kernelspec": {
      "name": "python3",
      "display_name": "Python 3"
    },
    "language_info": {
      "name": "python"
    }
  },
  "cells": [
    {
      "cell_type": "markdown",
      "metadata": {
        "id": "view-in-github",
        "colab_type": "text"
      },
      "source": [
        "<a href=\"https://colab.research.google.com/github/kaleetock/exoplanets/blob/main/HIP_65ab_phot.ipynb\" target=\"_parent\"><img src=\"https://colab.research.google.com/assets/colab-badge.svg\" alt=\"Open In Colab\"/></a>"
      ]
    },
    {
      "cell_type": "code",
      "metadata": {
        "colab": {
          "base_uri": "https://localhost:8080/"
        },
        "id": "r8Cla9szNJWQ",
        "outputId": "f8afc84d-a050-4bcb-f577-52bb1f7706c1"
      },
      "source": [
        "from google.colab import drive\n",
        "drive.mount('/content/drive', force_remount=True)\n",
        "import numpy as np\n",
        "import os\n",
        "import re\n",
        "import math\n",
        "from astropy import units as u\n",
        "import matplotlib.pyplot\n"
      ],
      "execution_count": null,
      "outputs": [
        {
          "output_type": "stream",
          "name": "stdout",
          "text": [
            "Mounted at /content/drive\n"
          ]
        }
      ]
    },
    {
      "cell_type": "code",
      "metadata": {
        "colab": {
          "base_uri": "https://localhost:8080/",
          "height": 296
        },
        "id": "gOkruL_mNh0V",
        "outputId": "1abf4029-a017-42ad-9c8f-e0b7820f2eaa"
      },
      "source": [
        "def parse_filename(f):\n",
        "  m = re.search( r'(([a-zA-Z0-9]+)_([aBVirpguzsw]+)_(\\d+)d(\\d+)_(\\d\\d\\d\\dd\\d\\dd\\d\\d)T\\d\\dd\\d\\dd\\d\\dd\\d+\\_(\\d)a([\\d]+)_(\\d+)d(\\d+)_([A-Za-z0-9]+)\\_(\\w+)\\.(\\w+))', f )  \n",
        "\n",
        "  if m:\n",
        "    file_prefix = m.group(1)\n",
        "    target = m.group(2)\n",
        "    filter_color = m.group(3)\n",
        "    bjd_timestamp = float(m.group(4)+\".\"+m.group(5))\n",
        "    date = m.group(6)\n",
        "    airmass = float(m.group(7)+\".\"+m.group(8))\n",
        "    exposure_time = float(m.group(9)+\".\"+m.group(10))\n",
        "    telescope = m.group(11)\n",
        "    user = m.group(12)\n",
        "    phot = m.group(13)\n",
        "    \n",
        "    m2 = re.search( r'(.*?)MEDSTACK$', target)\n",
        "    if m2:\n",
        "      target = m2.group(1)\n",
        "\n",
        "    return(target, filter_color, bjd_timestamp, date, airmass, exposure_time, telescope, user, phot)\n",
        "\n",
        "  else:\n",
        "    print(f\"Could not parse filename {f}!\")\n",
        "\n",
        "############################################\n",
        "\n",
        "# Divides all fluxes *and all flux errors* by the average baseline, out-of-transit flux.\n",
        "# (I *think* it is correct to use the same scale factor for errors as for the quantity of interest?)\n",
        "\n",
        "def normalize(ingress_begin, egress_end, datafile, normalized_datafile):\n",
        "  baseline = []\n",
        "  with open(datafile, \"r\") as f:\n",
        "    for line in f:\n",
        "      bjd, flux, flux_err, airmass = line.split(\",\")\n",
        "      bjd, flux, flux_err, airmass = float(bjd), float(flux), float(flux_err), float(airmass)\n",
        "      if bjd < ingress_begin or bjd > egress_end: \n",
        "        baseline.append(flux)\n",
        "    num_baseline, avg_baseline = len(baseline), np.mean(baseline)\n",
        "  \n",
        "  bjds, normalized_fluxes = [], []\n",
        "  with open(normalized_datafile, \"w\") as normalized:\n",
        "    with open(datafile, \"r\") as f:\n",
        "      for line in f:\n",
        "        bjd, flux, flux_err, airmass = line.split(\",\")\n",
        "        bjd, flux, flux_err, airmass = float(bjd), float(flux), float(flux_err), float(airmass)\n",
        "        flux /= avg_baseline\n",
        "        flux_err /= avg_baseline\n",
        "        normalized.write(str(f\"{bjd}, {flux}, {flux_err}, {airmass}\\n\"))\n",
        "        bjds.append(bjd)\n",
        "        normalized_fluxes.append(flux)\n",
        "  return(bjds, normalized_fluxes)\n",
        "\n",
        "############################################\n",
        "\n",
        "def find_phot(target_ra, target_dec, comp_ra, comp_dec, min_dist, path, outpath):\n",
        "  files = [f for f in sorted(os.listdir(path)) if os.path.isfile(os.path.join(path,f))]\n",
        "  filenum, num_files = 0, len(files)\n",
        "  with open(outpath, \"w\") as out:\n",
        "    for f in files:\n",
        "      filenum += 1\n",
        "#      print(f\"filenum {filenum} of {num_files}\")\n",
        "      (target, filter_color, bjd_timestamp, date, airmass, exposure_time, telescope, user, phot) = parse_filename(f)\n",
        "      target_found, comp_found, target_counts, target_counts_err, comp_counts, comp_counts_err = False, False, 0, 0, 0, 0\n",
        "\n",
        "      num_lines = 0\n",
        "      min_t, min_c = 1000000, 1000000\n",
        "      with open (os.path.join(path, f), \"r\") as phot:\n",
        "        for line in phot:\n",
        "          num_lines += 1\n",
        "          ra, dec, x, y, count, counts_err, u1, u2 = line.split(\",\")\n",
        "          ra, dec, counts, counts_err = float(ra), float(dec), float(count), float(counts_err)\n",
        "\n",
        "          if abs(ra - target_ra) < min_dist and abs(dec - target_dec) < min_dist and abs(ra - target_ra) < min_t and abs(dec - target_dec) < min_t:\n",
        "            target_found, target_counts, target_counts_err = True, counts, counts_err\n",
        "\n",
        "          if abs(ra - comp_ra) < min_dist and abs(dec - comp_dec) < min_dist and abs(ra - comp_ra) < min_c and abs(dec - comp_dec) < min_c:\n",
        "            comp_found, comp_counts, comp_counts_err = True, counts, counts_err\n",
        "\n",
        "        if target_counts > 0 and comp_counts > 0 and target_counts_err > 0 and comp_counts_err > 0:\n",
        "          diff_flux = target_counts / comp_counts\n",
        "          x, y, sig_x, sig_y = target_counts, comp_counts, target_counts_err, comp_counts_err\n",
        "          diff_flux_err = math.sqrt((sig_x**2) * ((1/y)**2) + (sig_y**2) * (-x/(y**2))**2)\n",
        "          # Error on differential flux uses reference from Kyle (Aug 20 Slack)\n",
        "\n",
        "          outstr = str(f\"{bjd_timestamp}, {diff_flux}, {diff_flux_err}, {airmass}\")\n",
        "          out.write(outstr+\"\\n\")\n",
        "      # print(f\"file {filenum}: {num_lines} lines\")\n",
        "\n",
        "############################################\n",
        "\n",
        "# Coordinates: \n",
        "# HIP65ab\t0.1859583333 -54.8308277778\n",
        "# Comp1 0.2392958333  -54.755633333\n",
        "# Comp2 0.1571458333 -54.8613027778\n",
        "\n",
        "target_ra, target_dec, comp_ra, comp_dec, min_dist = 0.1859583333, -54.8308277778, 0.2392958333, -54.755633333, 0.001\n",
        "path = \"/content/drive/MyDrive/2022 Astronomy Research Seminar/0.Teams/best hip team hip drive/Hip65ab_psx\"  # uploaded unzipped folder to sex dir\n",
        "outpath = \"/content/drive/MyDrive/2022 Astronomy Research Seminar/0.Teams/best hip team hip drive/Hip65ab_phot\"\n",
        "raw_outpath = os.path.join(outpath, \"Comp1.csv\")\n",
        "\n",
        "find_phot(target_ra, target_dec, comp_ra, comp_dec, min_dist, path, raw_outpath)\n",
        "\n",
        "predicted_midpoint = 2459534.663409  # This is the predicted midpoint on the night of the observations (June 24)\n",
        "transit_duration_in_hours = 1.2  \n",
        "\n",
        "normalized_outpath = os.path.join(outpath, \"Comp1_Normalized.csv\")\n",
        "ingress_begin = predicted_midpoint - (transit_duration_in_hours / (24*2))\n",
        "egress_end = predicted_midpoint + (transit_duration_in_hours / (24*2))\n",
        "\n",
        "(bjds, normalized_fluxes) = normalize(ingress_begin, egress_end, raw_outpath, normalized_outpath)\n",
        "\n",
        "# Plot the data to check appearance and normalization\n",
        "\n",
        "%matplotlib inline\n",
        "matplotlib.pyplot.plot(bjds, normalized_fluxes, 'bo')"
      ],
      "execution_count": 14,
      "outputs": [
        {
          "output_type": "execute_result",
          "data": {
            "text/plain": [
              "[<matplotlib.lines.Line2D at 0x7f9e136bf0d0>]"
            ]
          },
          "metadata": {},
          "execution_count": 14
        },
        {
          "output_type": "display_data",
          "data": {
            "image/png": "[encoded data removed]",
            "text/plain": [
              "<Figure size 432x288 with 1 Axes>"
            ]
          },
          "metadata": {
            "needs_background": "light"
          }
        }
      ]
    }
  ]
}